{
 "cells": [
  {
   "cell_type": "markdown",
   "metadata": {},
   "source": [
    "## Exercise in Photogrammetry I\n",
    "## **Ex.9 : Essential Projective Geometry**\n",
    "### Points: 12"
   ]
  },
  {
   "cell_type": "markdown",
   "metadata": {},
   "source": [
    "## A. Homogenous coordinates"
   ]
  },
  {
   "cell_type": "markdown",
   "metadata": {},
   "source": [
    "In this task you need to find the intersection of two lines *$l_1$* and $l_2$. The line $l_1$ is defined by two points $x_1 = [98, 352]^T$ and $x_2 = [1548, 543]^T$. You can find the parameters of the line $l_2$ by computing the following $x_3$ and $x_4$ points.\n",
    "\n",
    "The point $x_3$ is the intersection of the lines $m_1$ and $m_2$. The lines $m_1$ and $m_2$ are determined through the *Hesse normal form* with $\\theta_1=35^{\\circ}$, $d_1=1210$ and $\\theta_2=138^{\\circ}$, $d_2=978$. The point $x4$ can be found as an intersection point of lines $m_3$ and $m_4$.\n",
    "\n",
    "The lines $m_3$and $m_4$ are given in the *intercept form*, where $x_0^3 = 1945$, $y_0^3 = 2761$ and $x_0^4 = -458$, $y_0^3 = 503$.\n",
    "\n",
    "**Hints**:\n",
    "- Hesse normal form: $cos(\\theta)\\cdot x + sin(\\theta)\\cdot y = d$ \n",
    "- Intercept form: $\\frac{x}{x_0} + \\frac{y}{y_0} = 1$\n",
    "\n",
    "**Task**:\n",
    "1. Find the intersection point $s$ of line $l_1$ and $l_2$ using **projective geometry** (homogenous coordinates). Print out the **euclidiean coordinates** of points $s$, $x_3$ and $x_4$. Finally, plot both lines l1 and l2 and verify your results.\n",
    "<br> *(4 points)*"
   ]
  },
  {
   "cell_type": "code",
   "execution_count": 1,
   "metadata": {},
   "outputs": [],
   "source": [
    "# import all required modules\n",
    "import numpy as np\n",
    "\n"
   ]
  },
  {
   "cell_type": "code",
   "execution_count": 2,
   "metadata": {},
   "outputs": [
    {
     "name": "stdout",
     "output_type": "stream",
     "text": [
      "[   -191    1450 -491682]\n"
     ]
    }
   ],
   "source": [
    "# Compute the coordinate of x_3 using homogenerous coordinate\n",
    "\n",
    "# Given x_1, x_2 lie on line l1 => l1 = x_1 x x_2\n",
    "x_1 = [98, 352, 1]\n",
    "x_2 = [1548, 543, 1]\n",
    "\n",
    "l_1 = np.cross(x_1, x_2)\n",
    "print(l_1)"
   ]
  },
  {
   "cell_type": "code",
   "execution_count": 4,
   "metadata": {},
   "outputs": [
    {
     "name": "stdout",
     "output_type": "stream",
     "text": [
      "[ 8.19152044e-01  5.73576436e-01 -1.21000000e+03]\n",
      "[-7.43144825e-01  6.69130606e-01 -9.78000000e+02]\n",
      "[2.48690279e+02 1.70033594e+03 9.74370065e-01]\n"
     ]
    }
   ],
   "source": [
    "# x_3 is the intersection of lines m_1 and m_2 => x_3 = m_1 x m_2\n",
    "# The formular of line m_1 and m_2\n",
    "\n",
    "m_1 = np.array([np.cos(np.deg2rad(35)), np.sin(np.deg2rad(35)), -1210])\n",
    "m_2 = np.array([np.cos(np.deg2rad(138)), np.sin(np.deg2rad(138)), -978])\n",
    "\n",
    "print(m_1)\n",
    "print(m_2)\n",
    "\n",
    "x_3 = np.cross(m_1, m_2)\n",
    "print(x_3)"
   ]
  },
  {
   "cell_type": "code",
   "execution_count": 5,
   "metadata": {},
   "outputs": [
    {
     "name": "stdout",
     "output_type": "stream",
     "text": [
      "[ 5.14138817e-04  3.62187613e-04 -1.00000000e+00]\n",
      "[-0.00218341  0.00198807 -1.        ]\n",
      "[1.62588396e-03 2.69754493e-03 1.81294742e-06]\n"
     ]
    }
   ],
   "source": [
    "# x_4 is intersection of lines m_3 and m_4 => x_4 = m_3 x m_4\n",
    "# The formular of lines m_3 and m_4\n",
    "m_3 = np.array([1.0 / 1945, 1.0 / 2761, -1])\n",
    "m_4 = np.array([- 1.0 / 458, 1.0 / 503, -1])\n",
    "\n",
    "print(m_3)\n",
    "print(m_4)\n",
    "\n",
    "x_4 = np.cross(m_3, m_4)\n",
    "print(x_4)"
   ]
  },
  {
   "cell_type": "code",
   "execution_count": 6,
   "metadata": {},
   "outputs": [
    {
     "name": "stdout",
     "output_type": "stream",
     "text": [
      "[ 4.54212615e-04  1.13335026e-03 -2.09369572e+00]\n"
     ]
    }
   ],
   "source": [
    "# x_3, x_4 lie on line l_2 => l2 = x_3 x x_4\n",
    "l_2 = np.cross(x_3, x_4)\n",
    "print(l_2)"
   ]
  },
  {
   "cell_type": "code",
   "execution_count": 7,
   "metadata": {},
   "outputs": [
    {
     "name": "stdout",
     "output_type": "stream",
     "text": [
      "[-2.47861088e+03 -6.23224050e+02 -8.75078191e-01]\n"
     ]
    }
   ],
   "source": [
    "# Intersection point s of 2 line l_1 and l_2 => s = l_1 x l_2\n",
    "s = np.cross(l_1, l_2)\n",
    "print(s)"
   ]
  },
  {
   "cell_type": "code",
   "execution_count": 8,
   "metadata": {},
   "outputs": [],
   "source": [
    "# Plot 2 line in one Plot\n",
    "import matplotlib.pyplot as plt \n",
    "%matplotlib inline "
   ]
  },
  {
   "cell_type": "code",
   "execution_count": 28,
   "metadata": {},
   "outputs": [
    {
     "name": "stdout",
     "output_type": "stream",
     "text": [
      "[2.83244503e+03 7.12192415e+02 1.00000000e+00]\n"
     ]
    },
    {
     "data": {
      "image/png": "[encoded data removed]",
      "text/plain": [
       "<Figure size 432x288 with 1 Axes>"
      ]
     },
     "metadata": {
      "needs_background": "light"
     },
     "output_type": "display_data"
    }
   ],
   "source": [
    "s_nor = s/s[2]\n",
    "print(s_nor)\n",
    "x = np.linspace(2500, 3000, 10000)\n",
    "l_1_y = (-l_1[0]*x - l_1[2]) / (l_1[1])\n",
    "l_2_y = (-l_2[0]*x - l_2[2]) / (l_2[1])\n",
    "plt.plot(x, l_1_y, '-r', label='$L_1$')\n",
    "plt.plot(x, l_2_y, '-b', label='$L_2$')\n",
    "plt.plot(s_nor[0], s_nor[1], 'o', label='s')\n",
    "plt.title('Intersect point')\n",
    "plt.xlabel('x', color='#1C2833')\n",
    "plt.ylabel('y', color='#1C2833')\n",
    "plt.legend(loc='upper left')\n",
    "plt.grid()\n",
    "plt.show()"
   ]
  },
  {
   "cell_type": "markdown",
   "metadata": {},
   "source": [
    "## B. Projective Geometry"
   ]
  },
  {
   "cell_type": "markdown",
   "metadata": {},
   "source": [
    "You install a surveillance camera. This is a sensor width *principal point* $x_h = [400, 300]^T$ pel, *camera constant* $c = 550$ pel, *shear* $s = 0$ and *scale difference* $m = 0.0025$. You are also given the coordinates of two points in the world coordinate frame $X_1 = [1, 0, 2]$ m and $X_2 = [2, 3, 1]^T$ m.<br> *(8 points)*"
   ]
  },
  {
   "cell_type": "markdown",
   "metadata": {},
   "source": [
    "**Tasks**:\n",
    "1. Assuming the camera is located at the origin of the world with identical orientation, project the 3D points into the sensor coordinate system. Print out the *calibration matrix (K)*, *projection matrix (P)* and the *euclidean coordinates* of the sensor points. <br>*(5 points)*  \n",
    "2. Let's assume the camera has changed its location to $X_0 = [0.4, 0, 10]^T$ and is rotated by $4^\\circ$ around the Y-axis. Taking this transfomation into account, project again the given 3D points to the sensor coordinates and print out the *projection matrix (P)* and the *euclidean coordinates* of the sensor points.<br> *(3 points)*"
   ]
  },
  {
   "cell_type": "markdown",
   "metadata": {},
   "source": [
    "## B1"
   ]
  },
  {
   "cell_type": "code",
   "execution_count": null,
   "metadata": {},
   "outputs": [],
   "source": [
    "# Setup the calibration matrix K and print out the result\n"
   ]
  },
  {
   "cell_type": "code",
   "execution_count": null,
   "metadata": {},
   "outputs": [],
   "source": []
  }
 ],
 "metadata": {
  "kernelspec": {
   "display_name": "pytorch",
   "language": "python",
   "name": "pytorch"
  },
  "language_info": {
   "codemirror_mode": {
    "name": "ipython",
    "version": 3
   },
   "file_extension": ".py",
   "mimetype": "text/x-python",
   "name": "python",
   "nbconvert_exporter": "python",
   "pygments_lexer": "ipython3",
   "version": "3.6.9"
  }
 },
 "nbformat": 4,
 "nbformat_minor": 2
}
